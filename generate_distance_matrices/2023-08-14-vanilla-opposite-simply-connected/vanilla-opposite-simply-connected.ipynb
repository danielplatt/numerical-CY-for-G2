{
 "cells": [
  {
   "cell_type": "markdown",
   "metadata": {},
   "source": [
    "# Sampling and homology via bottlenecks -- constructing distance matrix runs out of memory, with sparse matrix takes too long\n",
    "\n",
    "The paper [Sampling and homology via bottlenecks]() by Di Rocco et. al. introduces a novel algorithm for producing a provably dense sampling of a smooth and compact algebraic variety where the density is determined by the smallest bottleneck. Using the sample, the zeroth and first homology of the variety can be recovered using a modified Vietoris-Rips construction. This notebook implements the algorithm for sampling and homology computation for the case of complete intersections and illustrates it using a curve in $\\Bbb R^2$."
   ]
  },
  {
   "cell_type": "code",
   "execution_count": 1,
   "metadata": {},
   "outputs": [],
   "source": [
    "using HomotopyContinuation, DynamicPolynomials, LinearAlgebra, IterTools, Random\n",
    "\n",
    "Random.seed!(100)\n",
    "\n",
    "n=5 # ambient dimension\n",
    "@polyvar x[1:n] y[1:n] p[1:n] gamma[1:n]\n",
    "\n",
    "singular_cubic = x[1]*(x[2]^2+x[3]^2+x[4]^2-x[5]^2)-(x[2]^3+x[3]^3+x[4]^3-(1/2)*x[5]^3);\n",
    "# big first smoothing, but + sign is expected to lead to simply connected variety\n",
    "smoothing = singular_cubic+(1/4)*x[1]^3;\n",
    "\n",
    "deg_three_generic = rand((-1,1)) + rand((-1,1))*x[1] + rand((-1,1))*x[1]^2 + rand((-1,1))*x[1]^3 +  rand((-1,1))*x[2] + rand((-1,1))*x[1]*x[2] + rand((-1,1))*x[1]^2*x[2] +  rand((-1,1))*x[2]^2 + rand((-1,1))*x[1]*x[2]^2 + rand((-1,1))*x[2]^3 +  rand((-1,1))*x[3] + rand((-1,1))*x[1]*x[3] + rand((-1,1))*x[1]^2*x[3] +  rand((-1,1))*x[2]*x[3] + rand((-1,1))*x[1]*x[2]*x[3] + rand((-1,1))*x[2]^2*x[3] +  rand((-1,1))*x[3]^2 + rand((-1,1))*x[1]*x[3]^2 + rand((-1,1))*x[2]*x[3]^2 +  rand((-1,1))*x[3]^3 + rand((-1,1))*x[4] + rand((-1,1))*x[1]*x[4] +  rand((-1,1))*x[1]^2*x[4] + rand((-1,1))*x[2]*x[4] + rand((-1,1))*x[1]*x[2]*x[4] +  rand((-1,1))*x[2]^2*x[4] + rand((-1,1))*x[3]*x[4] + rand((-1,1))*x[1]*x[3]*x[4] +  rand((-1,1))*x[2]*x[3]*x[4] + rand((-1,1))*x[3]^2*x[4] + rand((-1,1))*x[4]^2 +  rand((-1,1))*x[1]*x[4]^2 + rand((-1,1))*x[2]*x[4]^2 + rand((-1,1))*x[3]*x[4]^2 +  rand((-1,1))*x[4]^3 + rand((-1,1))*x[5] + rand((-1,1))*x[1]*x[5] +  rand((-1,1))*x[1]^2*x[5] + rand((-1,1))*x[2]*x[5] + rand((-1,1))*x[1]*x[2]*x[5] +  rand((-1,1))*x[2]^2*x[5] + rand((-1,1))*x[3]*x[5] + rand((-1,1))*x[1]*x[3]*x[5] +  rand((-1,1))*x[2]*x[3]*x[5] + rand((-1,1))*x[3]^2*x[5] + rand((-1,1))*x[4]*x[5] +  rand((-1,1))*x[1]*x[4]*x[5] + rand((-1,1))*x[2]*x[4]*x[5] +  rand((-1,1))*x[3]*x[4]*x[5] + rand((-1,1))*x[4]^2*x[5] + rand((-1,1))*x[5]^2 +  rand((-1,1))*x[1]*x[5]^2 + rand((-1,1))*x[2]*x[5]^2 + rand((-1,1))*x[3]*x[5]^2 +  rand((-1,1))*x[4]*x[5]^2 + rand((-1,1))*x[5]^3;\n",
    "deg_two_generic = rand((-1,1)) + rand((-1,1))*x[1] + rand((-1,1))*x[1]^2 + rand((-1,1))*x[2] +  rand((-1,1))*x[1]*x[2] + rand((-1,1))*x[2]^2 + rand((-1,1))*x[3] +  rand((-1,1))*x[1]*x[3] + rand((-1,1))*x[2]*x[3] + rand((-1,1))*x[3]^2 +  rand((-1,1))*x[4] + rand((-1,1))*x[1]*x[4] + rand((-1,1))*x[2]*x[4] +  rand((-1,1))*x[3]*x[4] + rand((-1,1))*x[4]^2 + rand((-1,1))*x[5] +  rand((-1,1))*x[1]*x[5] + rand((-1,1))*x[2]*x[5] + rand((-1,1))*x[3]*x[5] +  rand((-1,1))*x[4]*x[5] + rand((-1,1))*x[5]^2;\n",
    "\n",
    "epsilon = 0\n",
    "\n",
    "F = [\n",
    "    smoothing+epsilon*deg_three_generic,\n",
    "    x[1]^2+x[2]^2+x[3]^2+x[4]^2+x[5]^2-1+epsilon*deg_two_generic\n",
    "]\n",
    "\n",
    "d=length(F) # codimension of variety\n",
    "k = n-d # dimension of variety\n",
    "@polyvar lambda[1:d] mu[1:d]; # lagrange multipliers"
   ]
  },
  {
   "cell_type": "code",
   "execution_count": 2,
   "metadata": {},
   "outputs": [
    {
     "name": "stdout",
     "output_type": "stream",
     "text": [
      "\r",
      "\u001b[32mTracking 2125764 paths... 100%|████████████████████████████████████████| Time: 1:24:17\u001b[39m\n",
      "\u001b[34m  # paths tracked:                  2125764\u001b[39m\n",
      "\u001b[34m  # non-singular solutions (real):  6840 (352)\u001b[39m\n",
      "\u001b[34m  # singular solutions (real):      6082 (50)\u001b[39m\n",
      "\u001b[34m  # total solutions (real):         12922 (402)\u001b[39m\n"
     ]
    },
    {
     "data": {
      "text/plain": [
       "Result{Vector{ComplexF64}} with 10430 solutions\n",
       "===============================================\n",
       "• 6840 non-singular solutions (352 real)\n",
       "• 3590 singular solutions (50 real)\n",
       "• 2125764 paths tracked\n",
       "• random seed: 722885\n",
       "• multiplicity table of singular solutions:\n",
       "\u001b[2m┌\u001b[0m\u001b[2m───────\u001b[0m\u001b[2m┬\u001b[0m\u001b[2m───────\u001b[0m\u001b[2m┬\u001b[0m\u001b[2m────────\u001b[0m\u001b[2m┬\u001b[0m\u001b[2m────────────\u001b[0m\u001b[2m┐\u001b[0m\n",
       "\u001b[2m│\u001b[0m\u001b[22m mult. \u001b[0m\u001b[2m│\u001b[0m\u001b[22m total \u001b[0m\u001b[2m│\u001b[0m\u001b[22m # real \u001b[0m\u001b[2m│\u001b[0m\u001b[22m # non-real \u001b[0m\u001b[2m│\u001b[0m\n",
       "\u001b[2m├\u001b[0m\u001b[2m───────\u001b[0m\u001b[2m┼\u001b[0m\u001b[2m───────\u001b[0m\u001b[2m┼\u001b[0m\u001b[2m────────\u001b[0m\u001b[2m┼\u001b[0m\u001b[2m────────────\u001b[0m\u001b[2m┤\u001b[0m\n",
       "\u001b[2m│\u001b[0m   1   \u001b[0m\u001b[2m│\u001b[0m 1098  \u001b[0m\u001b[2m│\u001b[0m   50   \u001b[0m\u001b[2m│\u001b[0m    1048    \u001b[0m\u001b[2m│\u001b[0m\n",
       "\u001b[2m│\u001b[0m   2   \u001b[0m\u001b[2m│\u001b[0m 2492  \u001b[0m\u001b[2m│\u001b[0m   0    \u001b[0m\u001b[2m│\u001b[0m    2492    \u001b[0m\u001b[2m│\u001b[0m\n",
       "\u001b[2m└\u001b[0m\u001b[2m───────\u001b[0m\u001b[2m┴\u001b[0m\u001b[2m───────\u001b[0m\u001b[2m┴\u001b[0m\u001b[2m────────\u001b[0m\u001b[2m┴\u001b[0m\u001b[2m────────────\u001b[0m\u001b[2m┘\u001b[0m\n"
      ]
     },
     "execution_count": 2,
     "metadata": {},
     "output_type": "execute_result"
    }
   ],
   "source": [
    "# Compute the bottlenecks\n",
    "\n",
    "grad = differentiate(F, x)\n",
    "G = subs(F, x => y)\n",
    "grady = subs(grad, x => y)\n",
    "\n",
    "system = [F; G; map(j -> x[j]-y[j]-dot(lambda, grad[:, j]), 1:n); map(j -> x[j]-y[j]-dot(mu, grady[:, j]), 1:n)]\n",
    "result = solve(system, start_system = :total_degree)"
   ]
  },
  {
   "cell_type": "code",
   "execution_count": 3,
   "metadata": {},
   "outputs": [
    {
     "data": {
      "text/plain": [
       "0.07395578426922879"
      ]
     },
     "execution_count": 3,
     "metadata": {},
     "output_type": "execute_result"
    }
   ],
   "source": [
    "# Choose the size of the grid as the smallest bottleneck\n",
    "\n",
    "bottlenecks = map(s -> (s[1:n], s[n+1:2*n]), real_solutions(nonsingular(result)))\n",
    "bn_lengths = sort!(map(b -> (norm(b[1]-b[2]), b), bottlenecks), by = a -> a[1])\n",
    "δ = bn_lengths[1][1]/2 # grid size"
   ]
  },
  {
   "cell_type": "code",
   "execution_count": 4,
   "metadata": {},
   "outputs": [
    {
     "data": {
      "text/plain": [
       "Result{Vector{ComplexF64}} with 90 solutions\n",
       "============================================\n",
       "• 90 non-singular solutions (30 real)\n",
       "• 0 singular solutions (0 real)\n",
       "• 156 paths tracked\n",
       "• random seed: 893816\n"
      ]
     },
     "execution_count": 4,
     "metadata": {},
     "output_type": "execute_result"
    }
   ],
   "source": [
    "# Compute the bounding box by computing the EDD starting from the center of the largest bottleneck\n",
    "\n",
    "q = bn_lengths[end][2][1] + (bn_lengths[end][2][2]-bn_lengths[end][2][1])/2 + randn(Float64, n)*10^(-10)\n",
    "system = [F; map(j -> x[j]-q[j]-dot(lambda, grad[:, j]), 1:n)]\n",
    "result = solve(system, start_system = :polyhedral)"
   ]
  },
  {
   "cell_type": "code",
   "execution_count": 5,
   "metadata": {},
   "outputs": [],
   "source": [
    "# Extract farthest point from q to X and use as box length\n",
    "\n",
    "critical_points = sort!(map(c -> (norm(c[1:n]-q), c[1:n]), real_solutions(nonsingular(result))), by = a -> a[1])\n",
    "b = critical_points[end][1]\n",
    "indices = [i for i in -b:δ:b];"
   ]
  },
  {
   "cell_type": "code",
   "execution_count": 6,
   "metadata": {},
   "outputs": [],
   "source": [
    "# Compute basic sample\n",
    "\n",
    "samples = []\n",
    "counter = 0\n",
    "\n",
    "start_time = time_ns()\n",
    "for s in IterTools.subsets(1:n, k)\n",
    "    Ft = [F; map(i -> x[s[i]]-p[i]-q[s[i]], 1:k)]\n",
    "    p₀ = randn(ComplexF64, k)\n",
    "    F_p₀ = subs(Ft, p[1:k] => p₀)\n",
    "    result_p₀ = solve(F_p₀)\n",
    "    S_p₀ = solutions(result_p₀)\n",
    "    \n",
    "    # Construct the PathTracker\n",
    "    tracker = HomotopyContinuation.pathtracker(Ft; parameters=p[1:k], generic_parameters=p₀)\n",
    "    for p1 in Iterators.product(map(j-> 1:length(indices), s)...)\n",
    "        counter += length(S_p₀)\n",
    "        for s1 in S_p₀\n",
    "            result = track(tracker, s1; target_parameters=map(j -> indices[p1[j]], 1:k))\n",
    "            # check that the tracking was successfull\n",
    "            if is_success(result) && is_real(result)\n",
    "                push!(samples, real(solution(result)))\n",
    "            end\n",
    "        end\n",
    "    end\n",
    "end\n",
    "time_basic_sample = time_ns()-start_time;"
   ]
  },
  {
   "cell_type": "code",
   "execution_count": 7,
   "metadata": {},
   "outputs": [
    {
     "name": "stdout",
     "output_type": "stream",
     "text": [
      "\r",
      "\u001b[32mTracking 1458 paths... 100%|████████████████████████████████████████| Time: 0:00:00\u001b[39m\n",
      "\u001b[34m  # paths tracked:                  1458\u001b[39m\n",
      "\u001b[34m  # non-singular solutions (real):  18 (0)\u001b[39m\n",
      "\u001b[34m  # singular solutions (real):      0 (0)\u001b[39m\n",
      "\u001b[34m  # total solutions (real):         18 (0)\u001b[39m\n"
     ]
    }
   ],
   "source": [
    "# Compute extra sample\n",
    "\n",
    "extra_samples = []\n",
    "extra_counter = 0\n",
    "\n",
    "start_time = time_ns()\n",
    "for l in 1:k-1\n",
    "    for s in IterTools.subsets(1:n, l)\n",
    "        Ft = [F; map(i -> x[s[i]]-p[i]-q[s[i]], 1:l)] \n",
    "        grad = differentiate(Ft, x)\n",
    "        system = [Ft; map(j -> x[j]-y[j]-dot(gamma[1:n-k+l], grad[:, j]), 1:n)]\n",
    "        \n",
    "        p₀ = randn(ComplexF64, n+l)\n",
    "        F_p₀ = subs(system, [y; p[1:l]] => p₀)\n",
    "        result_p₀ = solve(F_p₀)\n",
    "        S_p₀ = solutions(result_p₀)\n",
    "\n",
    "        # Construct the PathTracker\n",
    "        tracker = HomotopyContinuation.pathtracker(system; parameters=[y; p[1:l]], generic_parameters=p₀)\n",
    "        for p1 in Iterators.product(map(j-> 1:length(indices), s)...)\n",
    "            extra_counter += length(S_p₀)\n",
    "            for s1 in S_p₀\n",
    "                result = track(tracker, s1; target_parameters=[randn(Float64, n); map(j -> indices[p1[j]], 1:l)])\n",
    "                # check that the tracking was successfull\n",
    "                if is_success(result) && is_real(result)\n",
    "                    push!(extra_samples, real(solution(result))[1:n])\n",
    "                end\n",
    "            end\n",
    "        end\n",
    "    end\n",
    "end\n",
    "time_extra_sample = time_ns()-start_time;"
   ]
  },
  {
   "cell_type": "code",
   "execution_count": 8,
   "metadata": {},
   "outputs": [
    {
     "name": "stdout",
     "output_type": "stream",
     "text": [
      "grid size: 0.07395578426922879\n",
      "length of bounding box: 1.0708631529468382\n",
      "number of tracked paths: 1620810\n",
      "total time: 269.5771087630001 s\n",
      "|E_δ|: 134190, |E'_δ|: 15857\n",
      "total number of samples: 150047\n"
     ]
    }
   ],
   "source": [
    "# Summary\n",
    "\n",
    "println(\"grid size: \", δ)\n",
    "println(\"length of bounding box: \", b)\n",
    "println(\"number of tracked paths: \", counter+extra_counter)\n",
    "println(\"total time: \", (time_basic_sample+time_extra_sample)*10^(-9), \" s\")\n",
    "println(\"|E_δ|: \" , length(samples), \", |E'_δ|: \", length(extra_samples))\n",
    "println(\"total number of samples: \", length(samples)+length(extra_samples))"
   ]
  },
  {
   "cell_type": "code",
   "execution_count": 9,
   "metadata": {},
   "outputs": [],
   "source": [
    "using DelimitedFiles\n",
    "writedlm(\"vanilla-small-first_pointcloud.csv\",  samples, ',')"
   ]
  },
  {
   "cell_type": "markdown",
   "metadata": {},
   "source": [
    "# Plotting the samples"
   ]
  },
  {
   "cell_type": "code",
   "execution_count": 10,
   "metadata": {},
   "outputs": [],
   "source": [
    "#using Plots\n",
    "#plotlyjs()"
   ]
  },
  {
   "cell_type": "code",
   "execution_count": 11,
   "metadata": {
    "scrolled": false
   },
   "outputs": [],
   "source": [
    "# Plot the sampled points\n",
    "\n",
    "#S = reduce(hcat, vcat(samples, extra_samples))\n",
    "#if n < 3\n",
    "#    scatter(S[1,:], S[2,:])\n",
    "#else\n",
    "#    scatter(S[1,:], S[2,:], S[3,:])\n",
    "#end"
   ]
  },
  {
   "cell_type": "markdown",
   "metadata": {},
   "source": [
    "# Homology"
   ]
  },
  {
   "cell_type": "code",
   "execution_count": 28,
   "metadata": {},
   "outputs": [],
   "source": [
    "#using Eirene"
   ]
  },
  {
   "cell_type": "code",
   "execution_count": 29,
   "metadata": {},
   "outputs": [
    {
     "name": "stdout",
     "output_type": "stream",
     "text": [
      "134190\n"
     ]
    },
    {
     "ename": "LoadError",
     "evalue": "InterruptException:",
     "output_type": "error",
     "traceback": [
      "InterruptException:",
      "",
      "Stacktrace:",
      " [1] top-level scope",
      "   @ ./In[29]:31"
     ]
    }
   ],
   "source": [
    "#Compute distance matrix\n",
    "\n",
    "ϵ = 2*δ\n",
    "\n",
    "using SparseArrays\n",
    "println(length(samples))\n",
    "D = Float16.(spzeros((length(samples), length(samples))))\n",
    "        \n",
    "#\n",
    "# D = zeros((length(samples), length(samples))) # Initialize distance matrix\n",
    "\n",
    "neighbour_lists = []\n",
    "for i in 1:length(samples)\n",
    "    push!(neighbour_lists, [])\n",
    "end\n",
    "candidate_lists = []\n",
    "\n",
    "for i in 1:length(samples)\n",
    "    candidate_list = []\n",
    "    for j in (i+1):length(samples)\n",
    "        dist = norm(samples[i]-samples[j])\n",
    "        if dist < sqrt(8)*δ\n",
    "            if dist < ϵ\n",
    "                push!(neighbour_lists[i], j)\n",
    "                push!(neighbour_lists[j], i)\n",
    "            else\n",
    "                push!(candidate_list, j)\n",
    "            end\n",
    "        end\n",
    "        D[i, j] = dist\n",
    "        D[j, i] = dist\n",
    "    end\n",
    "    push!(candidate_lists, candidate_list)\n",
    "end\n",
    "\n",
    "println(size(D))"
   ]
  },
  {
   "cell_type": "code",
   "execution_count": 14,
   "metadata": {},
   "outputs": [
    {
     "ename": "LoadError",
     "evalue": "UndefVarError: D not defined",
     "output_type": "error",
     "traceback": [
      "UndefVarError: D not defined",
      "",
      "Stacktrace:",
      " [1] top-level scope",
      "   @ In[14]:3"
     ]
    }
   ],
   "source": [
    "# Modify distance matrix to add edges in VR-complex\n",
    "\n",
    "DM = deepcopy(D) #Modified distance matrix\n",
    "\n",
    "thresh = 2*δ - 10^(-10)\n",
    "for i in 1:length(samples)\n",
    "    for j in candidate_lists[i]\n",
    "        for k in neighbour_lists[j]\n",
    "            if D[i, k] < ϵ && D[j, k] < ϵ\n",
    "                DM[i, j] = thresh\n",
    "                DM[j, i] = thresh\n",
    "                break\n",
    "            end\n",
    "        end\n",
    "    end\n",
    "end"
   ]
  },
  {
   "cell_type": "code",
   "execution_count": 15,
   "metadata": {},
   "outputs": [
    {
     "ename": "LoadError",
     "evalue": "UndefVarError: DM not defined",
     "output_type": "error",
     "traceback": [
      "UndefVarError: DM not defined",
      "",
      "Stacktrace:",
      " [1] top-level scope",
      "   @ In[15]:2"
     ]
    }
   ],
   "source": [
    "using DelimitedFiles\n",
    "writedlm( \"vanilla-small-first_modified_distances.csv\",  DM, ',')"
   ]
  },
  {
   "cell_type": "code",
   "execution_count": 16,
   "metadata": {},
   "outputs": [],
   "source": [
    "# Homology computation using Eirene using VR-complex with distance ϵ\n",
    "# C = eirene(DM, model=\"vr\", maxdim=1, minrad=ϵ, maxrad=ϵ);"
   ]
  },
  {
   "cell_type": "code",
   "execution_count": 17,
   "metadata": {},
   "outputs": [],
   "source": [
    "#println(\"0-th Betti number: \", betticurve(C, dim=0)[1, 2])\n",
    "#println(\"1-th Betti number: \", betticurve(C, dim=1)[1, 2])"
   ]
  }
 ],
 "metadata": {
  "@webio": {
   "lastCommId": null,
   "lastKernelId": null
  },
  "kernelspec": {
   "display_name": "Julia 1.7.3",
   "language": "julia",
   "name": "julia-1.7"
  },
  "language_info": {
   "file_extension": ".jl",
   "mimetype": "application/julia",
   "name": "julia",
   "version": "1.7.3"
  }
 },
 "nbformat": 4,
 "nbformat_minor": 2
}
